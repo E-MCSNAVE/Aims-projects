{
  "cells": [
    {
      "cell_type": "markdown",
      "metadata": {
        "id": "LF922pdb42so"
      },
      "source": [
        "# PyTorch Computer Vision Tutorial\n",
        "\n",
        "\n",
        "This notebook covers:\n",
        "- Loading and visualizing the MNIST dataset\n",
        "- Training a simple Multi-Layer Perceptron (MLP)\n",
        "- Training a Convolutional Neural Network (CNN)\n",
        "- A mini data-challenge on FashionMNIST\n",
        "\n",
        "## 1. Loading MNIST Dataset\n",
        "\n",
        "### MNIST Dataset  \n",
        "\n",
        "The **MNIST (Modified National Institute of Standards and Technology)** dataset is a collection of **70,000 grayscale images** of handwritten digits from **0 to 9**, commonly used for training and benchmarking machine learning models in image classification.  \n",
        "\n",
        "#### Key Features:  \n",
        "- **60,000 training images** and **10,000 test images**  \n",
        "- Each image is **28×28 pixels** in size  \n",
        "- Pixel values range from **0 (black) to 255 (white)**  \n",
        "- Labels correspond to the digit (0–9) present in the image\n",
        "\n",
        "\n",
        "### To get access to GPUs: [![Open In Colab](https://colab.research.google.com/assets/colab-badge.svg)](https://colab.research.google.com/github/rmenegaux/Intro-to-Neural-Nets-AIMS-2025/blob/main/practical2_CNN.ipynb)\n"
      ]
    },
    {
      "cell_type": "code",
      "execution_count": 2,
      "metadata": {
        "colab": {
          "base_uri": "https://localhost:8080/",
          "height": 395
        },
        "id": "ybW1_S9I42sr",
        "outputId": "b814f618-38b1-4b88-85cb-7fc877f4e60e"
      },
      "outputs": [
        {
          "output_type": "stream",
          "name": "stderr",
          "text": [
            "100%|██████████| 9.91M/9.91M [00:00<00:00, 15.7MB/s]\n",
            "100%|██████████| 28.9k/28.9k [00:00<00:00, 471kB/s]\n",
            "100%|██████████| 1.65M/1.65M [00:00<00:00, 4.29MB/s]\n",
            "100%|██████████| 4.54k/4.54k [00:00<00:00, 8.58MB/s]\n"
          ]
        },
        {
          "output_type": "display_data",
          "data": {
            "text/plain": [
              "<Figure size 1200x400 with 16 Axes>"
            ],
            "image/png": "[encoded data removed]"
          },
          "metadata": {}
        }
      ],
      "source": [
        "import torch\n",
        "import torchvision\n",
        "import torchvision.transforms as transforms\n",
        "import matplotlib.pyplot as plt\n",
        "\n",
        "# Define a transform to normalize the dataset and convert it to tensors\n",
        "transform = transforms.Compose([transforms.ToTensor()])\n",
        "\n",
        "# Load the MNIST training dataset\n",
        "train_dataset = torchvision.datasets.MNIST(root='./data', train=True, download=True, transform=transform)\n",
        "\n",
        "# Create a DataLoader for easy batch processing\n",
        "train_loader = torch.utils.data.DataLoader(train_dataset, batch_size=32, shuffle=True)\n",
        "\n",
        "# Load the test dataset\n",
        "test_dataset = torchvision.datasets.MNIST(root=\"./data\", train=False, transform=transform, download=True)\n",
        "test_loader = torch.utils.data.DataLoader(test_dataset, batch_size=32, shuffle=False)\n",
        "# Get a batch of images and labels\n",
        "images, labels = next(iter(train_loader))\n",
        "\n",
        "# Plot some sample images\n",
        "fig, axes = plt.subplots(2, 8, figsize=(12, 4))\n",
        "for i, ax in enumerate(axes.flat):\n",
        "    ax.imshow(images[i].squeeze(), cmap='gray')\n",
        "    ax.set_title(f'Label: {labels[i].item()}')\n",
        "    ax.axis('off')\n",
        "\n",
        "plt.show()"
      ]
    },
    {
      "cell_type": "markdown",
      "metadata": {
        "id": "zTQk1EH242su"
      },
      "source": [
        "### Manipulating data in PyTorch  \n",
        "\n",
        "In the code above, we used a `DataLoader` to load batches of images from the MNIST dataset efficiently.\n",
        "```python\n",
        "train_loader = torch.utils.data.DataLoader(train_dataset, batch_size=16, shuffle=True)\n",
        "```\n",
        "\n",
        "A [`DataLoader`](https://pytorch.org/docs/stable/data.html#torch.utils.data.DataLoader) is a PyTorch utility that helps **manage large datasets** by handling:  \n",
        "- **Batching**: Instead of loading one sample at a time, it loads multiple samples together, improving training efficiency.  \n",
        "- **Shuffling**: It randomly shuffles the dataset at each epoch, helping the model generalize better.  \n",
        "- **Parallel Loading**: It allows multiple workers to load data in parallel, speeding up training.\n",
        "\n",
        "In the example above, one _iteration_ from the dataloader returns a batch of 16 images and their labels"
      ]
    },
    {
      "cell_type": "markdown",
      "metadata": {
        "id": "HcDU6BWD42su"
      },
      "source": [
        "I.1. First try with an MLP\n",
        "---\n",
        "\n",
        "As a baseline model, we first implement a fully-connected network.\n",
        "### **1. Define the MLP Network**  \n",
        "1. **Define the Model**  \n",
        "   - We flatten the **28×28** images into **1D vectors**.  \n",
        "   - The network has **two hidden layers** with **ReLU activations**.  \n",
        "   - The final layer outputs **logits for 10 classes**."
      ]
    },
    {
      "cell_type": "code",
      "execution_count": 28,
      "metadata": {
        "colab": {
          "base_uri": "https://localhost:8080/"
        },
        "id": "3hYa6tLj42su",
        "outputId": "9b4d41e4-8d44-42fb-a3e3-d13e961324f3"
      },
      "outputs": [
        {
          "output_type": "stream",
          "name": "stdout",
          "text": [
            "MLP(\n",
            "  (fc1): Linear(in_features=784, out_features=512, bias=True)\n",
            "  (relu1): ReLU()\n",
            "  (fc2): Linear(in_features=512, out_features=32, bias=True)\n",
            "  (relu2): ReLU()\n",
            "  (fc3): Linear(in_features=32, out_features=10, bias=True)\n",
            ")\n"
          ]
        }
      ],
      "source": [
        "import torch.nn as nn\n",
        "\n",
        "# Define the MLP model\n",
        "class MLP(nn.Module):\n",
        "    def __init__(self):\n",
        "        super(MLP, self).__init__()\n",
        "        # TODO: fill in the dimensions of the linear layers, and the flattening\n",
        "        self.fc1 = nn.Linear(28*28,512)  # First hidden layer\n",
        "        self.relu1 = nn.ReLU()\n",
        "        self.fc2 = nn.Linear(512,32)  # Second hidden layer\n",
        "        self.relu2 = nn.ReLU()\n",
        "        self.fc3 = nn.Linear(32,10)  # Output layer\n",
        "\n",
        "    def forward(self, x):\n",
        "        x =x.view(-1,28*28) # Flatten 28x28 images into vectors\n",
        "        x = self.relu1(self.fc1(x))\n",
        "        x = self.relu2(self.fc2(x))\n",
        "        x = self.fc3(x)  # No activation (logits output)\n",
        "        return x\n",
        "\n",
        "# Initialize model, loss function, and optimizer\n",
        "device = torch.device(\"cuda\" if torch.cuda.is_available() else \"cpu\")\n",
        "mlp_model = MLP().to(device)\n",
        "\n",
        "print(mlp_model)"
      ]
    },
    {
      "cell_type": "markdown",
      "metadata": {
        "id": "CAOg2f8T42sv"
      },
      "source": [
        "### 2. Training the network\n",
        "- 2.a. Define the training **optimizer** and the **loss function**\n",
        "\n",
        "- 2.b. Implement the **training loop**\n",
        "   - Each batch goes through a **forward pass**.  \n",
        "   - We compute the **Cross-Entropy Loss**.  \n",
        "   - Use **backpropagation** to compute gradients.  \n",
        "   - Update model parameters using **Adam optimizer**."
      ]
    },
    {
      "cell_type": "code",
      "execution_count": 34,
      "metadata": {
        "colab": {
          "base_uri": "https://localhost:8080/"
        },
        "id": "UKFPGFpI42sv",
        "outputId": "b6f0d6cb-4ca3-40e1-83b2-818d96ddffaa"
      },
      "outputs": [
        {
          "output_type": "stream",
          "name": "stdout",
          "text": [
            "Epoch 1, Loss: 0.0289\n",
            "Epoch 2, Loss: 0.0217\n",
            "Epoch 3, Loss: 0.0181\n",
            "Epoch 4, Loss: 0.0169\n",
            "Epoch 5, Loss: 0.0153\n"
          ]
        }
      ],
      "source": [
        "# Load MNIST dataset\n",
        "\n",
        "train_loader = torch.utils.data.DataLoader(train_dataset, batch_size=32, shuffle=True)\n",
        "\n",
        "# TODO: Define the loss function and the optimizer\n",
        "criterion = nn.CrossEntropyLoss() # Loss function for classification\n",
        "optimizer = torch.optim.Adam(mlp_model.parameters(), lr=0.001)\n",
        "\n",
        "# Training loop\n",
        "num_epochs = 5\n",
        "def train(model, optimizer, train_loader, num_epochs):\n",
        "    for epoch in range(num_epochs):\n",
        "        model.train()  # Set model to training mode\n",
        "        running_loss = 0.0\n",
        "\n",
        "        for images, labels in train_loader:\n",
        "            # Transfer data to model device (if it is on GPU)\n",
        "            images, labels = images.to(device), labels.to(device)\n",
        "\n",
        "            # TODO: Perform the forward pass, backward pass and parameter updates\n",
        "            # Forward pass\n",
        "            loss = criterion(model(images), labels)\n",
        "\n",
        "            # Backpropagation\n",
        "            optimizer.zero_grad()  # Reset gradients\n",
        "            loss.backward()# Compute gradients\n",
        "            optimizer.step()  # Update weights\n",
        "\n",
        "            running_loss += loss.item()\n",
        "\n",
        "        print(f\"Epoch {epoch+1}, Loss: {running_loss/len(train_loader):.4f}\")\n",
        "\n",
        "train(mlp_model, optimizer, train_loader, num_epochs)\n"
      ]
    },
    {
      "cell_type": "markdown",
      "metadata": {
        "id": "eKh4r_kO42sv"
      },
      "source": [
        "\n",
        "### **3. Evaluation and Error Analysis**  \n",
        "   - Compute **classification accuracy**.  \n",
        "   - Identify misclassified images.  \n",
        "   - **Plot 10 misclassified digits** with true & predicted labels."
      ]
    },
    {
      "cell_type": "code",
      "execution_count": 35,
      "metadata": {
        "colab": {
          "base_uri": "https://localhost:8080/"
        },
        "id": "Tdlp__D042sw",
        "outputId": "de061372-5375-443c-9df7-35e0c96b9aee"
      },
      "outputs": [
        {
          "output_type": "stream",
          "name": "stdout",
          "text": [
            "Test Accuracy: 97.90%\n",
            "\n",
            "Classification Report:\n",
            "\n",
            "              precision    recall  f1-score   support\n",
            "\n",
            "           0      0.988     0.985     0.986       980\n",
            "           1      0.991     0.989     0.990      1135\n",
            "           2      0.988     0.963     0.975      1032\n",
            "           3      0.966     0.983     0.974      1010\n",
            "           4      0.981     0.978     0.979       982\n",
            "           5      0.980     0.972     0.976       892\n",
            "           6      0.982     0.984     0.983       958\n",
            "           7      0.984     0.979     0.981      1028\n",
            "           8      0.951     0.980     0.966       974\n",
            "           9      0.978     0.975     0.977      1009\n",
            "\n",
            "    accuracy                          0.979     10000\n",
            "   macro avg      0.979     0.979     0.979     10000\n",
            "weighted avg      0.979     0.979     0.979     10000\n",
            "\n"
          ]
        }
      ],
      "source": [
        "from sklearn.metrics import classification_report, accuracy_score\n",
        "def evaluate(model, test_loader):\n",
        "    model.eval()\n",
        "\n",
        "    y_true = []\n",
        "    y_pred = []\n",
        "\n",
        "    with torch.no_grad():\n",
        "        for images, labels in test_loader:\n",
        "            images, labels = images.to(device), labels.to(device)\n",
        "            outputs = model(images)\n",
        "            _, predicted_labels = torch.max(outputs.data, 1)\n",
        "\n",
        "            y_pred.extend(predicted_labels.cpu().numpy())\n",
        "            y_true.extend(labels.cpu().numpy())  # Add this line to append true labels\n",
        "\n",
        "    # Compute accuracy\n",
        "    print(f\"Test Accuracy: {accuracy_score(y_true, y_pred)*100:.2f}%\")\n",
        "\n",
        "    # Print classification report\n",
        "    print(\"\\nClassification Report:\\n\")\n",
        "    print(classification_report(y_true, y_pred, digits=3))\n",
        "evaluate(mlp_model, test_loader) # Call evaluate with your model and test_loader"
      ]
    },
    {
      "cell_type": "markdown",
      "metadata": {
        "id": "ISfiEtxX42sw"
      },
      "source": [
        "### **Next Step: Convolutional Neural Networks (CNNs)**\n",
        "Now that we've built an MLP, the next step is improving performance with a **CNN**, which can better capture spatial patterns in images! 🚀\n",
        "\n",
        "#### **What’s Different from MLP?**\n",
        "1. **Convolutional layers** (`Conv2d`) extract spatial features.\n",
        "2. **Pooling** (`MaxPool2d`) reduces spatial dimensions.\n",
        "3. **Fewer parameters** than a fully connected MLP while being more powerful.\n",
        "4. **Better generalization** due to weight sharing in convolutional layers.\n",
        "\n",
        "You can reuse the **training** and **evaluation** code as-is!"
      ]
    },
    {
      "cell_type": "markdown",
      "metadata": {
        "id": "juSI7Wcx42sw"
      },
      "source": []
    },
    {
      "cell_type": "code",
      "execution_count": 77,
      "metadata": {
        "colab": {
          "base_uri": "https://localhost:8080/"
        },
        "id": "3XsF5-Iw42sw",
        "outputId": "69c08ea6-127a-4b92-88e8-8318501cb634"
      },
      "outputs": [
        {
          "output_type": "stream",
          "name": "stdout",
          "text": [
            "CNN(\n",
            "  (conv1): Conv2d(1, 32, kernel_size=(3, 3), stride=(1, 1), padding=(1, 1))\n",
            "  (conv2): Conv2d(32, 64, kernel_size=(3, 3), stride=(1, 1), padding=(1, 1))\n",
            "  (pool): MaxPool2d(kernel_size=2, stride=2, padding=0, dilation=1, ceil_mode=False)\n",
            "  (fc1): Linear(in_features=3136, out_features=128, bias=True)\n",
            "  (fc2): Linear(in_features=128, out_features=10, bias=True)\n",
            ")\n"
          ]
        }
      ],
      "source": [
        "import torch.nn.functional as F\n",
        "\n",
        "class CNN(nn.Module):\n",
        "    def __init__(self):\n",
        "        super(CNN, self).__init__()\n",
        "\n",
        "        # TODO: Choose the hyperparameters of the convolutional layers\n",
        "        self.conv1 = nn.Conv2d(in_channels=1, out_channels=32, kernel_size=3, padding=1)\n",
        "        self.conv2 = nn.Conv2d(in_channels=32, out_channels=64,kernel_size=3, padding=1)\n",
        "        self.pool = nn.MaxPool2d(kernel_size=2, stride=2)  # 2x2 max pooling\n",
        "\n",
        "        # TODO: Same for the Fully connected layers\n",
        "        self.fc1 = nn.Linear(49*64, 128)  # what size is the input to FC1 ?\n",
        "        self.fc2 = nn.Linear(128, 10)  # what size does the output have to be?\n",
        "\n",
        "    def forward(self, x):\n",
        "        x = self.pool(F.relu(self.conv1(x)))  # Conv1 -> ReLU -> MaxPool\n",
        "        x = self.pool(F.relu(self.conv2(x)))  # Conv2 -> ReLU -> MaxPool\n",
        "        x = x.view(x.size(0), -1)  # Flatten\n",
        "        x = F.relu(self.fc1(x))  # Fully connected layer with ReLU\n",
        "        x = self.fc2(x)  # Output logits\n",
        "        return x\n",
        "\n",
        "# Instantiate model\n",
        "cnn_model = CNN().to(device)\n",
        "# Print model architecture\n",
        "print(cnn_model)"
      ]
    },
    {
      "cell_type": "code",
      "execution_count": 78,
      "metadata": {
        "colab": {
          "base_uri": "https://localhost:8080/"
        },
        "id": "-enHktH642sw",
        "outputId": "1736afb3-6d0b-40fd-8dae-754a8d1eb4ee"
      },
      "outputs": [
        {
          "output_type": "stream",
          "name": "stdout",
          "text": [
            "Epoch 1, Loss: 0.4261\n",
            "Epoch 2, Loss: 0.2739\n",
            "Epoch 3, Loss: 0.2303\n",
            "Epoch 4, Loss: 0.1998\n",
            "Epoch 5, Loss: 0.1717\n"
          ]
        }
      ],
      "source": [
        "optimizer = torch.optim.Adam(cnn_model.parameters(), lr=0.001)\n",
        "\n",
        "# Training loop\n",
        "num_epochs = 5\n",
        "#train(cnn_model, optimizer, num_epochs, train_loader)\n",
        "train(cnn_model, optimizer, train_loader, num_epochs)\n"
      ]
    },
    {
      "cell_type": "code",
      "execution_count": 79,
      "metadata": {
        "colab": {
          "base_uri": "https://localhost:8080/"
        },
        "id": "zO3F5jDd42sx",
        "outputId": "f9860949-6ee2-4673-eaa5-52ac827e412e"
      },
      "outputs": [
        {
          "output_type": "stream",
          "name": "stdout",
          "text": [
            "Test Accuracy: 91.59%\n",
            "\n",
            "Classification Report:\n",
            "\n",
            "              precision    recall  f1-score   support\n",
            "\n",
            "           0      0.889     0.853     0.871      1000\n",
            "           1      0.989     0.990     0.990      1000\n",
            "           2      0.899     0.822     0.859      1000\n",
            "           3      0.935     0.897     0.916      1000\n",
            "           4      0.823     0.916     0.867      1000\n",
            "           5      0.989     0.973     0.981      1000\n",
            "           6      0.734     0.780     0.756      1000\n",
            "           7      0.956     0.982     0.969      1000\n",
            "           8      0.990     0.976     0.983      1000\n",
            "           9      0.976     0.970     0.973      1000\n",
            "\n",
            "    accuracy                          0.916     10000\n",
            "   macro avg      0.918     0.916     0.916     10000\n",
            "weighted avg      0.918     0.916     0.916     10000\n",
            "\n"
          ]
        }
      ],
      "source": [
        "evaluate(cnn_model, test_loader)"
      ]
    },
    {
      "cell_type": "markdown",
      "metadata": {
        "id": "5mSn8j-A42sx"
      },
      "source": [
        "### **Simple Image Classification Challenge**  \n",
        "\n",
        "Try to get the best performance as possible on **Fashion-MNIST**, a dataset similar to MNIST but with images of clothing items instead of digits.  \n",
        "\n",
        "#### **Challenge: Classify Clothing Items from Fashion-MNIST**  \n",
        "\n",
        "**Dataset:**  \n",
        "- Fashion-MNIST contains **70,000 grayscale images** (60,000 train + 10,000 test).  \n",
        "- Each image is **28×28 pixels**, like MNIST.  \n",
        "- 10 classes:  \n",
        "  1. T-shirt/top  \n",
        "  2. Trouser  \n",
        "  3. Pullover  \n",
        "  4. Dress  \n",
        "  5. Coat  \n",
        "  6. Sandal  \n",
        "  7. Shirt  \n",
        "  8. Sneaker  \n",
        "  9. Bag  \n",
        "  10. Ankle boot  \n",
        "\n",
        "---\n",
        "\n",
        "#### **Tasks for Students**  \n",
        "\n",
        "1. **Load Fashion-MNIST** using `torchvision.datasets.FashionMNIST`.  \n",
        "2. **Baseline**: get a first baseline classification performance, with the previous MLP or CNN\n",
        "3. **Challenge**: Modify the model to improve accuracy.  \n",
        "   - Change the hyper-parameters\n",
        "   - Apply **data augmentation** (e.g., random flips, rotations).  \n",
        "\n",
        "Fashion-MNIST is slightly more challenging than MNIST because the images contain more complex patterns and textures. However, it is still relatively saturated —- MLPs can achieve ~89% accuracy, and CNNs can reach ~93-95%."
      ]
    },
    {
      "cell_type": "code",
      "execution_count": 48,
      "metadata": {
        "colab": {
          "base_uri": "https://localhost:8080/",
          "height": 521
        },
        "id": "tNGijGzC42sx",
        "outputId": "f489d266-cd2b-498a-dc2f-92f496017978"
      },
      "outputs": [
        {
          "output_type": "display_data",
          "data": {
            "text/plain": [
              "<Figure size 600x600 with 9 Axes>"
            ],
            "image/png": "[encoded data removed]"
          },
          "metadata": {}
        }
      ],
      "source": [
        "import torch\n",
        "import torchvision\n",
        "import torchvision.transforms as transforms\n",
        "import matplotlib.pyplot as plt\n",
        "\n",
        "# Define transformation\n",
        "transform = transforms.Compose([transforms.ToTensor()])\n",
        "\n",
        "# Load dataset\n",
        "train_dataset = torchvision.datasets.FashionMNIST(root=\"./data\", train=True, download=True, transform=transform)\n",
        "test_dataset = torchvision.datasets.FashionMNIST(root=\"./data\", train=False, download=True, transform=transform)\n",
        "\n",
        "# TODO: Define train and test DataLoader\n",
        "train_loader = torch.utils.data.DataLoader(train_dataset, batch_size=32, shuffle=True)\n",
        "test_loader = torch.utils.data.DataLoader(test_dataset, batch_size=32, shuffle=True)\n",
        "\n",
        "# Class labels\n",
        "class_names = [\n",
        "    \"T-shirt/top\", \"Trouser\", \"Pullover\", \"Dress\", \"Coat\",\n",
        "    \"Sandal\", \"Shirt\", \"Sneaker\", \"Bag\", \"Ankle boot\"\n",
        "]\n",
        "\n",
        "# Visualize some sample images\n",
        "def show_images(dataset, num_images=9):\n",
        "    fig, axes = plt.subplots(3, 3, figsize=(6, 6))\n",
        "    for i, ax in enumerate(axes.flat):\n",
        "        image, label = dataset[i]\n",
        "        ax.imshow(image.squeeze(), cmap=\"gray\")\n",
        "        ax.set_title(class_names[label])\n",
        "        ax.axis(\"off\")\n",
        "    plt.show()\n",
        "\n",
        "show_images(train_dataset)\n"
      ]
    },
    {
      "cell_type": "code",
      "execution_count": 80,
      "metadata": {
        "colab": {
          "base_uri": "https://localhost:8080/"
        },
        "id": "auvmpOGi42sx",
        "outputId": "f2035cd3-f05d-4da8-dedb-a63caa8140c8"
      },
      "outputs": [
        {
          "output_type": "stream",
          "name": "stdout",
          "text": [
            "CNN(\n",
            "  (conv1): Conv2d(1, 32, kernel_size=(3, 3), stride=(1, 1), padding=(1, 1))\n",
            "  (conv2): Conv2d(32, 64, kernel_size=(3, 3), stride=(1, 1), padding=(1, 1))\n",
            "  (pool): MaxPool2d(kernel_size=2, stride=2, padding=0, dilation=1, ceil_mode=False)\n",
            "  (fc1): Linear(in_features=3136, out_features=128, bias=True)\n",
            "  (fc2): Linear(in_features=128, out_features=10, bias=True)\n",
            ")\n",
            "Epoch 1, Loss: 0.1489\n",
            "Epoch 2, Loss: 0.1258\n",
            "Epoch 3, Loss: 0.1071\n",
            "Epoch 4, Loss: 0.0895\n",
            "Epoch 5, Loss: 0.0767\n",
            "Epoch 6, Loss: 0.0639\n",
            "Epoch 7, Loss: 0.0577\n",
            "Epoch 8, Loss: 0.0466\n",
            "Epoch 9, Loss: 0.0419\n",
            "Epoch 10, Loss: 0.0368\n",
            "Epoch 11, Loss: 0.0325\n",
            "Epoch 12, Loss: 0.0313\n",
            "Epoch 13, Loss: 0.0274\n",
            "Epoch 14, Loss: 0.0265\n",
            "Epoch 15, Loss: 0.0235\n",
            "Test Accuracy: 91.51%\n",
            "\n",
            "Classification Report:\n",
            "\n",
            "              precision    recall  f1-score   support\n",
            "\n",
            "           0      0.900     0.823     0.860      1000\n",
            "           1      0.996     0.980     0.988      1000\n",
            "           2      0.771     0.933     0.844      1000\n",
            "           3      0.873     0.943     0.907      1000\n",
            "           4      0.891     0.823     0.856      1000\n",
            "           5      0.986     0.983     0.984      1000\n",
            "           6      0.819     0.746     0.781      1000\n",
            "           7      0.963     0.980     0.971      1000\n",
            "           8      0.996     0.969     0.982      1000\n",
            "           9      0.982     0.971     0.976      1000\n",
            "\n",
            "    accuracy                          0.915     10000\n",
            "   macro avg      0.918     0.915     0.915     10000\n",
            "weighted avg      0.918     0.915     0.915     10000\n",
            "\n"
          ]
        }
      ],
      "source": [
        "# TODO: Instantiate model of your choice\n",
        "model = cnn_model\n",
        "model = model.to(device)\n",
        "# Print model architecture\n",
        "print(model)\n",
        "# TODO: Choose an optimizer\n",
        "optimizer = torch.optim.Adam(model.parameters(), lr=0.001)\n",
        "\n",
        "# Training loop\n",
        "num_epochs = 15\n",
        "train(model, optimizer, train_loader,num_epochs)\n",
        "evaluate(model, test_loader)"
      ]
    }
  ],
  "metadata": {
    "kernelspec": {
      "display_name": "Python 3",
      "name": "python3"
    },
    "language_info": {
      "codemirror_mode": {
        "name": "ipython",
        "version": 3
      },
      "file_extension": ".py",
      "mimetype": "text/x-python",
      "name": "python",
      "nbconvert_exporter": "python",
      "pygments_lexer": "ipython3",
      "version": "3.9.7"
    },
    "colab": {
      "provenance": [],
      "gpuType": "T4"
    },
    "accelerator": "GPU"
  },
  "nbformat": 4,
  "nbformat_minor": 0
}